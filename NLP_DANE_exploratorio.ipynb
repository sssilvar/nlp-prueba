{
  "nbformat": 4,
  "nbformat_minor": 0,
  "metadata": {
    "colab": {
      "name": "NLP-DANE-exploratorio.ipynb",
      "version": "0.3.2",
      "provenance": []
    },
    "kernelspec": {
      "name": "python3",
      "display_name": "Python 3"
    }
  },
  "cells": [
    {
      "cell_type": "markdown",
      "metadata": {
        "id": "K1GQZdPLFoPP",
        "colab_type": "text"
      },
      "source": [
        "## Mount Google drive locally"
      ]
    },
    {
      "cell_type": "code",
      "metadata": {
        "id": "3aBA5Yb6FgJ7",
        "colab_type": "code",
        "outputId": "60870d17-fe08-41a6-cfec-dcb90ebd6633",
        "colab": {
          "base_uri": "https://localhost:8080/",
          "height": 34
        }
      },
      "source": [
        "from google.colab import drive\n",
        "drive.mount('/content/drive')"
      ],
      "execution_count": 72,
      "outputs": [
        {
          "output_type": "stream",
          "text": [
            "Drive already mounted at /content/drive; to attempt to forcibly remount, call drive.mount(\"/content/drive\", force_remount=True).\n"
          ],
          "name": "stdout"
        }
      ]
    },
    {
      "cell_type": "markdown",
      "metadata": {
        "id": "uQQ0llmFF4JC",
        "colab_type": "text"
      },
      "source": [
        "## Import necessary libraries"
      ]
    },
    {
      "cell_type": "code",
      "metadata": {
        "id": "OCrEQ5ymGF8d",
        "colab_type": "code",
        "colab": {}
      },
      "source": [
        "from os.path import isfile"
      ],
      "execution_count": 0,
      "outputs": []
    },
    {
      "cell_type": "code",
      "metadata": {
        "id": "E5pviYNhF9K3",
        "colab_type": "code",
        "colab": {}
      },
      "source": [
        "import pandas as pd\n",
        "import seaborn as sns\n",
        "import matplotlib.pyplot as plt\n",
        "\n",
        "\n",
        "sns.set()\n",
        "%matplotlib inline"
      ],
      "execution_count": 0,
      "outputs": []
    },
    {
      "cell_type": "markdown",
      "metadata": {
        "id": "4gwYzDMAFtiY",
        "colab_type": "text"
      },
      "source": [
        "## Load text database"
      ]
    },
    {
      "cell_type": "code",
      "metadata": {
        "id": "fq4NtgEAFshH",
        "colab_type": "code",
        "colab": {}
      },
      "source": [
        "data_excel = r'/content/drive/My Drive/Research/Data/Datos Ejercicio CIIURev4.xlsx'\n",
        "assert isfile(data_excel), f'Data file not found in {data_excel}'"
      ],
      "execution_count": 0,
      "outputs": []
    },
    {
      "cell_type": "code",
      "metadata": {
        "id": "9suTH0pRGWez",
        "colab_type": "code",
        "colab": {}
      },
      "source": [
        "sheets_train = ['mes1', 'mes2', 'mes3']\n",
        "\n",
        "df_train = pd.DataFrame()\n",
        "for sheet in sheets_train:\n",
        "  df_sheet = pd.read_excel(data_excel, sheet_name=sheet)\n",
        "  df_train = df_train.append(df_sheet, ignore_index=True)"
      ],
      "execution_count": 0,
      "outputs": []
    },
    {
      "cell_type": "code",
      "metadata": {
        "id": "HWFZPY8m316i",
        "colab_type": "code",
        "outputId": "35e2feb5-445e-4bc5-9849-51f300c72383",
        "colab": {
          "base_uri": "https://localhost:8080/",
          "height": 206
        }
      },
      "source": [
        "df_train.head()"
      ],
      "execution_count": 77,
      "outputs": [
        {
          "output_type": "execute_result",
          "data": {
            "text/html": [
              "<div>\n",
              "<style scoped>\n",
              "    .dataframe tbody tr th:only-of-type {\n",
              "        vertical-align: middle;\n",
              "    }\n",
              "\n",
              "    .dataframe tbody tr th {\n",
              "        vertical-align: top;\n",
              "    }\n",
              "\n",
              "    .dataframe thead th {\n",
              "        text-align: right;\n",
              "    }\n",
              "</style>\n",
              "<table border=\"1\" class=\"dataframe\">\n",
              "  <thead>\n",
              "    <tr style=\"text-align: right;\">\n",
              "      <th></th>\n",
              "      <th>P6390</th>\n",
              "      <th>RAMA2D_R4</th>\n",
              "    </tr>\n",
              "  </thead>\n",
              "  <tbody>\n",
              "    <tr>\n",
              "      <th>0</th>\n",
              "      <td>REALIZA INSTALACIONES ELECTRICAS EN LAS VIVIEN...</td>\n",
              "      <td>43</td>\n",
              "    </tr>\n",
              "    <tr>\n",
              "      <th>1</th>\n",
              "      <td>PESCA ARTESANAL A MAR ABIERTO</td>\n",
              "      <td>3</td>\n",
              "    </tr>\n",
              "    <tr>\n",
              "      <th>2</th>\n",
              "      <td>EDUCACION SUPERIOR</td>\n",
              "      <td>85</td>\n",
              "    </tr>\n",
              "    <tr>\n",
              "      <th>3</th>\n",
              "      <td>VENTA DE MEDICAMENTOS</td>\n",
              "      <td>47</td>\n",
              "    </tr>\n",
              "    <tr>\n",
              "      <th>4</th>\n",
              "      <td>CONSTRUCCION DE 0BRAS</td>\n",
              "      <td>41</td>\n",
              "    </tr>\n",
              "  </tbody>\n",
              "</table>\n",
              "</div>"
            ],
            "text/plain": [
              "                                               P6390  RAMA2D_R4\n",
              "0  REALIZA INSTALACIONES ELECTRICAS EN LAS VIVIEN...         43\n",
              "1                      PESCA ARTESANAL A MAR ABIERTO          3\n",
              "2                                 EDUCACION SUPERIOR         85\n",
              "3                              VENTA DE MEDICAMENTOS         47\n",
              "4                              CONSTRUCCION DE 0BRAS         41"
            ]
          },
          "metadata": {
            "tags": []
          },
          "execution_count": 77
        }
      ]
    },
    {
      "cell_type": "markdown",
      "metadata": {
        "id": "eviIAQI3ynss",
        "colab_type": "text"
      },
      "source": [
        "Leer hoja de validación"
      ]
    },
    {
      "cell_type": "code",
      "metadata": {
        "id": "IrmrYsgtydLz",
        "colab_type": "code",
        "outputId": "3bac4fc1-35dc-4758-c691-6b17771b68eb",
        "colab": {
          "base_uri": "https://localhost:8080/",
          "height": 224
        }
      },
      "source": [
        "df_test = pd.read_excel(data_excel, sheet_name='validacion')\n",
        "X_valid = df_test['P6390']\n",
        "print(f'Data training shape: {df_test.shape}')\n",
        "\n",
        "df_test.head()"
      ],
      "execution_count": 98,
      "outputs": [
        {
          "output_type": "stream",
          "text": [
            "Data training shape: (29640, 2)\n"
          ],
          "name": "stdout"
        },
        {
          "output_type": "execute_result",
          "data": {
            "text/html": [
              "<div>\n",
              "<style scoped>\n",
              "    .dataframe tbody tr th:only-of-type {\n",
              "        vertical-align: middle;\n",
              "    }\n",
              "\n",
              "    .dataframe tbody tr th {\n",
              "        vertical-align: top;\n",
              "    }\n",
              "\n",
              "    .dataframe thead th {\n",
              "        text-align: right;\n",
              "    }\n",
              "</style>\n",
              "<table border=\"1\" class=\"dataframe\">\n",
              "  <thead>\n",
              "    <tr style=\"text-align: right;\">\n",
              "      <th></th>\n",
              "      <th>consecutivo</th>\n",
              "      <th>P6390</th>\n",
              "    </tr>\n",
              "  </thead>\n",
              "  <tbody>\n",
              "    <tr>\n",
              "      <th>0</th>\n",
              "      <td>1</td>\n",
              "      <td>CARGUE DESCARGUE Y ALMACENAMIENTO DE MERCANCIA...</td>\n",
              "    </tr>\n",
              "    <tr>\n",
              "      <th>1</th>\n",
              "      <td>2</td>\n",
              "      <td>MEDICINA VETERINARIA</td>\n",
              "    </tr>\n",
              "    <tr>\n",
              "      <th>2</th>\n",
              "      <td>3</td>\n",
              "      <td>ARREGLO Y DECORACION DE UÑAS</td>\n",
              "    </tr>\n",
              "    <tr>\n",
              "      <th>3</th>\n",
              "      <td>4</td>\n",
              "      <td>CARGUE DESCARGUE Y ALMACENAMIENTO DE MERCANCIA...</td>\n",
              "    </tr>\n",
              "    <tr>\n",
              "      <th>4</th>\n",
              "      <td>5</td>\n",
              "      <td>CUIDADO Y PROTECCION DE NIÑOS Y NIÑAS DE 0 A 5...</td>\n",
              "    </tr>\n",
              "  </tbody>\n",
              "</table>\n",
              "</div>"
            ],
            "text/plain": [
              "   consecutivo                                              P6390\n",
              "0            1  CARGUE DESCARGUE Y ALMACENAMIENTO DE MERCANCIA...\n",
              "1            2                               MEDICINA VETERINARIA\n",
              "2            3                       ARREGLO Y DECORACION DE UÑAS\n",
              "3            4  CARGUE DESCARGUE Y ALMACENAMIENTO DE MERCANCIA...\n",
              "4            5  CUIDADO Y PROTECCION DE NIÑOS Y NIÑAS DE 0 A 5..."
            ]
          },
          "metadata": {
            "tags": []
          },
          "execution_count": 98
        }
      ]
    },
    {
      "cell_type": "code",
      "metadata": {
        "id": "USngf3uvJ4yg",
        "colab_type": "code",
        "outputId": "d821eacb-251b-43e4-aa2b-ee2785054a2d",
        "colab": {
          "base_uri": "https://localhost:8080/",
          "height": 547
        }
      },
      "source": [
        "print(f'Data training shape: {df_train.shape}')\n",
        "print(f'Number of classes: {len(df_train.RAMA2D_R4.value_counts())}')\n",
        "\n",
        "plt.figure(figsize=(20,8))\n",
        "sns.countplot(x='RAMA2D_R4', data=df_train, order=df_train['RAMA2D_R4'].value_counts().index)\n",
        "plt.yscale('log')\n",
        "plt.xticks(rotation=90)\n",
        "plt.show()"
      ],
      "execution_count": 79,
      "outputs": [
        {
          "output_type": "stream",
          "text": [
            "Data training shape: (90152, 2)\n",
            "Number of classes: 88\n"
          ],
          "name": "stdout"
        },
        {
          "output_type": "display_data",
          "data": {
            "image/png": "[encoded data removed]",
            "text/plain": [
              "<Figure size 1440x576 with 1 Axes>"
            ]
          },
          "metadata": {
            "tags": []
          }
        }
      ]
    },
    {
      "cell_type": "markdown",
      "metadata": {
        "id": "DlvHr8dg5FKT",
        "colab_type": "text"
      },
      "source": [
        "## Clean dataset"
      ]
    },
    {
      "cell_type": "code",
      "metadata": {
        "id": "njf0cCxc5GzB",
        "colab_type": "code",
        "outputId": "f3f85d36-2c4c-405c-fc76-f851509fbf1e",
        "colab": {
          "base_uri": "https://localhost:8080/",
          "height": 175
        }
      },
      "source": [
        "df_train.query('RAMA2D_R4 == 0')"
      ],
      "execution_count": 80,
      "outputs": [
        {
          "output_type": "execute_result",
          "data": {
            "text/html": [
              "<div>\n",
              "<style scoped>\n",
              "    .dataframe tbody tr th:only-of-type {\n",
              "        vertical-align: middle;\n",
              "    }\n",
              "\n",
              "    .dataframe tbody tr th {\n",
              "        vertical-align: top;\n",
              "    }\n",
              "\n",
              "    .dataframe thead th {\n",
              "        text-align: right;\n",
              "    }\n",
              "</style>\n",
              "<table border=\"1\" class=\"dataframe\">\n",
              "  <thead>\n",
              "    <tr style=\"text-align: right;\">\n",
              "      <th></th>\n",
              "      <th>P6390</th>\n",
              "      <th>RAMA2D_R4</th>\n",
              "    </tr>\n",
              "  </thead>\n",
              "  <tbody>\n",
              "    <tr>\n",
              "      <th>9356</th>\n",
              "      <td>NO INFORMA</td>\n",
              "      <td>0</td>\n",
              "    </tr>\n",
              "    <tr>\n",
              "      <th>14189</th>\n",
              "      <td>CHSR</td>\n",
              "      <td>0</td>\n",
              "    </tr>\n",
              "    <tr>\n",
              "      <th>58825</th>\n",
              "      <td>VENDEDORA DE MOSTRADOR EN ALMACEN</td>\n",
              "      <td>0</td>\n",
              "    </tr>\n",
              "    <tr>\n",
              "      <th>80063</th>\n",
              "      <td>126</td>\n",
              "      <td>0</td>\n",
              "    </tr>\n",
              "  </tbody>\n",
              "</table>\n",
              "</div>"
            ],
            "text/plain": [
              "                                   P6390  RAMA2D_R4\n",
              "9356                          NO INFORMA          0\n",
              "14189                               CHSR          0\n",
              "58825  VENDEDORA DE MOSTRADOR EN ALMACEN          0\n",
              "80063                                126          0"
            ]
          },
          "metadata": {
            "tags": []
          },
          "execution_count": 80
        }
      ]
    },
    {
      "cell_type": "markdown",
      "metadata": {
        "id": "_ZukR4MTaO9K",
        "colab_type": "text"
      },
      "source": [
        "## Topic classification"
      ]
    },
    {
      "cell_type": "code",
      "metadata": {
        "id": "wdYa7Kdk4L66",
        "colab_type": "code",
        "colab": {}
      },
      "source": [
        "from sklearn.model_selection import train_test_split\n",
        "from sklearn.preprocessing import LabelEncoder\n",
        "from sklearn.feature_extraction.text import TfidfVectorizer\n",
        "from sklearn.ensemble import RandomForestClassifier\n",
        "from sklearn.metrics import accuracy_score, classification_report, confusion_matrix"
      ],
      "execution_count": 0,
      "outputs": []
    },
    {
      "cell_type": "code",
      "metadata": {
        "id": "vHJCT8pjaTG4",
        "colab_type": "code",
        "outputId": "372dfc84-0cc3-42aa-959c-567f14896785",
        "colab": {
          "base_uri": "https://localhost:8080/",
          "height": 52
        }
      },
      "source": [
        "X, y = df_train['P6390'], df_train['RAMA2D_R4']\n",
        "X_train, X_test, y_train, y_test = train_test_split(X, y, stratify=y, random_state=21)\n",
        "\n",
        "print(f'Training samples: {len(X_train)}')\n",
        "print(f'Testing samples: {len(X_test)}')"
      ],
      "execution_count": 104,
      "outputs": [
        {
          "output_type": "stream",
          "text": [
            "Training samples: 67614\n",
            "Testing samples: 22538\n"
          ],
          "name": "stdout"
        }
      ]
    },
    {
      "cell_type": "markdown",
      "metadata": {
        "id": "vNKh8U6C-4Ju",
        "colab_type": "text"
      },
      "source": [
        "Download Stopwords (in Spanish)"
      ]
    },
    {
      "cell_type": "code",
      "metadata": {
        "id": "tgcZwIC6-8Ec",
        "colab_type": "code",
        "colab": {}
      },
      "source": [
        "import nltk\n",
        "from nltk.corpus import stopwords"
      ],
      "execution_count": 0,
      "outputs": []
    },
    {
      "cell_type": "code",
      "metadata": {
        "id": "8UBVXb2S-9_1",
        "colab_type": "code",
        "outputId": "ede8aa02-3512-46a6-cbea-e41ea555f4ce",
        "colab": {
          "base_uri": "https://localhost:8080/",
          "height": 104
        }
      },
      "source": [
        "nltk.download('stopwords')\n",
        "nltk.download('wordnet')"
      ],
      "execution_count": 106,
      "outputs": [
        {
          "output_type": "stream",
          "text": [
            "[nltk_data] Downloading package stopwords to /root/nltk_data...\n",
            "[nltk_data]   Package stopwords is already up-to-date!\n",
            "[nltk_data] Downloading package wordnet to /root/nltk_data...\n",
            "[nltk_data]   Package wordnet is already up-to-date!\n"
          ],
          "name": "stdout"
        },
        {
          "output_type": "execute_result",
          "data": {
            "text/plain": [
              "True"
            ]
          },
          "metadata": {
            "tags": []
          },
          "execution_count": 106
        }
      ]
    },
    {
      "cell_type": "markdown",
      "metadata": {
        "id": "jmCCe-AHCgY6",
        "colab_type": "text"
      },
      "source": [
        "### Preprocessing and vectorizer"
      ]
    },
    {
      "cell_type": "code",
      "metadata": {
        "id": "aOggms-2Cixk",
        "colab_type": "code",
        "colab": {}
      },
      "source": [
        "from string import punctuation\n",
        "from nltk.stem.snowball import SnowballStemmer\n",
        "from nltk.stem.wordnet import WordNetLemmatizer"
      ],
      "execution_count": 0,
      "outputs": []
    },
    {
      "cell_type": "code",
      "metadata": {
        "id": "AZCxxtHjClzW",
        "colab_type": "code",
        "colab": {}
      },
      "source": [
        "def remove_punctuation(text):\n",
        "  no_punct = ''.join([c for c in text if c not in punctuation])\n",
        "  return no_punct"
      ],
      "execution_count": 0,
      "outputs": []
    },
    {
      "cell_type": "code",
      "metadata": {
        "id": "AlyPluDoCnGX",
        "colab_type": "code",
        "colab": {}
      },
      "source": [
        "def tokenize(text):\n",
        "    no_punct = remove_punctuation(text)\n",
        "    tokens = nltk.word_tokenize(no_punct, language='spanish')\n",
        "    stems = []\n",
        "    for item in tokens:\n",
        "        stems.append(SnowballStemmer(\"spanish\").stem(item))\n",
        "    return stems"
      ],
      "execution_count": 0,
      "outputs": []
    },
    {
      "cell_type": "markdown",
      "metadata": {
        "id": "TiwtSKtCGO8y",
        "colab_type": "text"
      },
      "source": [
        "Feature extraction from the text"
      ]
    },
    {
      "cell_type": "code",
      "metadata": {
        "id": "Mtm76_U2C_tQ",
        "colab_type": "code",
        "colab": {}
      },
      "source": [
        "# tfdif_vect = TfidfVectorizer(analyzer='word', \n",
        "#                              token_pattern='\\w{1,}',\n",
        "#                              stop_words=stopwords.words('spanish'),\n",
        "#                              max_features=5000)\n",
        "tfidf = TfidfVectorizer(tokenizer=tokenize, stop_words=stopwords.words('spanish'))\n",
        "\n",
        "# Train the model\n",
        "tfdif_vect.fit(X)\n",
        "\n",
        "X_train_tfdif = tfdif_vect.transform(X_train)\n",
        "X_test_tfdif = tfdif_vect.transform(X_test)"
      ],
      "execution_count": 0,
      "outputs": []
    },
    {
      "cell_type": "markdown",
      "metadata": {
        "id": "MTY_mY_cHAsS",
        "colab_type": "text"
      },
      "source": [
        "Create a model to classify the labels"
      ]
    },
    {
      "cell_type": "code",
      "metadata": {
        "id": "NKiPGsV4GrrA",
        "colab_type": "code",
        "outputId": "cd019b12-48ad-4a04-c2c7-0feefcd03064",
        "colab": {
          "base_uri": "https://localhost:8080/",
          "height": 139
        }
      },
      "source": [
        "model = RandomForestClassifier(n_estimators=50, random_state=42)\n",
        "model.fit(X_train_tfdif, y_train)"
      ],
      "execution_count": 111,
      "outputs": [
        {
          "output_type": "execute_result",
          "data": {
            "text/plain": [
              "RandomForestClassifier(bootstrap=True, class_weight=None, criterion='gini',\n",
              "                       max_depth=None, max_features='auto', max_leaf_nodes=None,\n",
              "                       min_impurity_decrease=0.0, min_impurity_split=None,\n",
              "                       min_samples_leaf=1, min_samples_split=2,\n",
              "                       min_weight_fraction_leaf=0.0, n_estimators=50,\n",
              "                       n_jobs=None, oob_score=False, random_state=42, verbose=0,\n",
              "                       warm_start=False)"
            ]
          },
          "metadata": {
            "tags": []
          },
          "execution_count": 111
        }
      ]
    },
    {
      "cell_type": "markdown",
      "metadata": {
        "id": "zS3IN4sZIs2G",
        "colab_type": "text"
      },
      "source": [
        "### Compute metrics"
      ]
    },
    {
      "cell_type": "markdown",
      "metadata": {
        "id": "S5q6KB0MIuts",
        "colab_type": "text"
      },
      "source": [
        "Accuracy"
      ]
    },
    {
      "cell_type": "code",
      "metadata": {
        "id": "p2tDZzo1Hqej",
        "colab_type": "code",
        "outputId": "52b34da4-07a0-4da0-b6e9-b01ce523e50b",
        "colab": {
          "base_uri": "https://localhost:8080/",
          "height": 34
        }
      },
      "source": [
        "y_pred = model.predict(X_test_tfdif)\n",
        "acc = accuracy_score(y_test, y_pred)\n",
        "print(f'Accuracy: {acc:.3f}')"
      ],
      "execution_count": 112,
      "outputs": [
        {
          "output_type": "stream",
          "text": [
            "Accuracy: 0.892\n"
          ],
          "name": "stdout"
        }
      ]
    },
    {
      "cell_type": "markdown",
      "metadata": {
        "id": "JnVW7vE9IwPb",
        "colab_type": "text"
      },
      "source": [
        "Classification report"
      ]
    },
    {
      "cell_type": "code",
      "metadata": {
        "id": "7icXsORyIxTl",
        "colab_type": "code",
        "outputId": "0b7beaa3-70f8-4e54-cfb0-5a86743d52f8",
        "colab": {
          "base_uri": "https://localhost:8080/",
          "height": 1000
        }
      },
      "source": [
        "# target_names = y.astype('str').unique()\n",
        "report = classification_report(y_test, y_pred)\n",
        "print(report)"
      ],
      "execution_count": 91,
      "outputs": [
        {
          "output_type": "stream",
          "text": [
            "              precision    recall  f1-score   support\n",
            "\n",
            "           0       0.00      0.00      0.00         1\n",
            "           1       0.97      0.98      0.97      1783\n",
            "           2       0.82      0.82      0.82        22\n",
            "           3       0.96      0.98      0.97        84\n",
            "           5       1.00      0.94      0.97        32\n",
            "           6       0.83      0.79      0.81        19\n",
            "           7       0.96      0.98      0.97        46\n",
            "           8       0.96      0.79      0.86        28\n",
            "           9       0.60      0.86      0.71         7\n",
            "          10       0.78      0.72      0.75       517\n",
            "          11       0.88      0.84      0.86       132\n",
            "          12       1.00      0.50      0.67         8\n",
            "          13       0.66      0.32      0.43        71\n",
            "          14       0.91      0.94      0.92       455\n",
            "          15       0.90      0.92      0.91       206\n",
            "          16       0.72      0.58      0.64        57\n",
            "          17       0.77      0.43      0.56        23\n",
            "          18       0.80      0.57      0.67        42\n",
            "          19       0.00      0.00      0.00         3\n",
            "          20       0.78      0.56      0.65        80\n",
            "          21       0.91      0.72      0.81        29\n",
            "          22       0.67      0.54      0.60        63\n",
            "          23       0.78      0.75      0.77        77\n",
            "          24       0.91      0.59      0.71        17\n",
            "          25       0.83      0.89      0.86       220\n",
            "          26       0.50      0.17      0.25         6\n",
            "          27       0.71      0.42      0.53        24\n",
            "          28       0.53      0.62      0.57        16\n",
            "          29       0.76      0.62      0.68        21\n",
            "          30       0.60      0.21      0.32        14\n",
            "          31       0.89      0.88      0.89       179\n",
            "          32       0.71      0.77      0.74       136\n",
            "          33       0.58      0.53      0.55        57\n",
            "          35       0.88      0.87      0.88        86\n",
            "          36       0.91      0.93      0.92        55\n",
            "          37       1.00      0.50      0.67         2\n",
            "          38       0.71      0.72      0.72        72\n",
            "          41       0.93      0.96      0.94      1060\n",
            "          42       0.80      0.89      0.84       224\n",
            "          43       0.85      0.76      0.81       370\n",
            "          45       0.91      0.92      0.92       608\n",
            "          46       0.81      0.80      0.81       503\n",
            "          47       0.92      0.96      0.94      3728\n",
            "          49       0.96      0.98      0.97      1351\n",
            "          50       1.00      0.36      0.53        11\n",
            "          51       0.56      0.56      0.56         9\n",
            "          52       0.87      0.84      0.85       262\n",
            "          53       0.76      0.77      0.76        69\n",
            "          55       0.93      0.95      0.94       170\n",
            "          56       0.89      0.91      0.90      1547\n",
            "          58       0.67      0.53      0.59        19\n",
            "          59       0.75      0.30      0.43        10\n",
            "          60       0.61      0.44      0.51        25\n",
            "          61       0.89      0.89      0.89       266\n",
            "          62       0.77      0.73      0.75        63\n",
            "          63       0.00      0.00      0.00         4\n",
            "          64       0.91      0.92      0.92       247\n",
            "          65       0.89      0.87      0.88        62\n",
            "          66       0.71      0.36      0.48        14\n",
            "          68       0.94      0.91      0.92       256\n",
            "          69       0.90      0.90      0.90       262\n",
            "          70       0.83      0.59      0.69        51\n",
            "          71       0.67      0.52      0.58        89\n",
            "          72       0.00      0.00      0.00         6\n",
            "          73       0.73      0.94      0.82        77\n",
            "          74       0.51      0.38      0.44       121\n",
            "          75       1.00      0.64      0.78        22\n",
            "          77       0.75      0.86      0.80        56\n",
            "          78       0.64      0.64      0.64        28\n",
            "          79       0.92      0.69      0.79        35\n",
            "          80       0.85      0.72      0.78       122\n",
            "          81       0.94      0.92      0.93       460\n",
            "          82       0.76      0.65      0.70       175\n",
            "          84       0.86      0.89      0.87       868\n",
            "          85       0.96      0.96      0.96      1208\n",
            "          86       0.91      0.95      0.93       852\n",
            "          87       0.69      0.42      0.52        26\n",
            "          88       0.68      0.78      0.73       279\n",
            "          90       0.62      0.55      0.58        62\n",
            "          91       0.43      0.27      0.33        11\n",
            "          92       0.96      0.92      0.94       125\n",
            "          93       0.76      0.80      0.78       122\n",
            "          94       0.60      0.48      0.54       159\n",
            "          95       0.81      0.82      0.82       283\n",
            "          96       0.84      0.87      0.85       726\n",
            "          97       0.98      0.98      0.98       739\n",
            "          99       0.50      0.33      0.40         6\n",
            "\n",
            "    accuracy                           0.89     22538\n",
            "   macro avg       0.77      0.68      0.71     22538\n",
            "weighted avg       0.89      0.89      0.89     22538\n",
            "\n"
          ],
          "name": "stdout"
        },
        {
          "output_type": "stream",
          "text": [
            "/usr/local/lib/python3.6/dist-packages/sklearn/metrics/classification.py:1437: UndefinedMetricWarning: Precision and F-score are ill-defined and being set to 0.0 in labels with no predicted samples.\n",
            "  'precision', 'predicted', average, warn_for)\n"
          ],
          "name": "stderr"
        }
      ]
    },
    {
      "cell_type": "markdown",
      "metadata": {
        "id": "CQPSMFY1MRcA",
        "colab_type": "text"
      },
      "source": [
        "Confusion matrix"
      ]
    },
    {
      "cell_type": "code",
      "metadata": {
        "id": "dn-sPbnSLXcS",
        "colab_type": "code",
        "outputId": "250bcfbf-044e-49f6-e0eb-77be62e388bf",
        "colab": {
          "base_uri": "https://localhost:8080/",
          "height": 621
        }
      },
      "source": [
        "conf_mat = confusion_matrix(y_test, y_pred)\n",
        "categories = y_test.value_counts().index\n",
        "\n",
        "plt.figure(figsize=(10,10))\n",
        "sns.heatmap(conf_mat, annot=False, \n",
        "            fmt='d', \n",
        "            cmap='gnuplot', \n",
        "            xticklabels=categories,\n",
        "            yticklabels=categories)\n",
        "plt.ylabel('Actual')\n",
        "plt.xlabel('Predicted')\n",
        "plt.show()"
      ],
      "execution_count": 92,
      "outputs": [
        {
          "output_type": "display_data",
          "data": {
            "image/png": "[encoded data removed]",
            "text/plain": [
              "<Figure size 720x720 with 2 Axes>"
            ]
          },
          "metadata": {
            "tags": []
          }
        }
      ]
    },
    {
      "cell_type": "markdown",
      "metadata": {
        "id": "8fE599kkzyW2",
        "colab_type": "text"
      },
      "source": [
        "# Predict onto the validation data"
      ]
    },
    {
      "cell_type": "code",
      "metadata": {
        "id": "GXp6-1Wvz9cs",
        "colab_type": "code",
        "colab": {}
      },
      "source": [
        "from sklearn.pipeline import Pipeline"
      ],
      "execution_count": 0,
      "outputs": []
    },
    {
      "cell_type": "code",
      "metadata": {
        "id": "nfObWtOPU-NL",
        "colab_type": "code",
        "colab": {}
      },
      "source": [
        "model = RandomForestClassifier(n_estimators=50, random_state=42)"
      ],
      "execution_count": 0,
      "outputs": []
    },
    {
      "cell_type": "code",
      "metadata": {
        "id": "MnLu5uLc0Ucy",
        "colab_type": "code",
        "colab": {}
      },
      "source": [
        "pipeline = Pipeline([\n",
        "    ('vectorizer', tfdif_vect),\n",
        "    ('clf', model)\n",
        "])"
      ],
      "execution_count": 0,
      "outputs": []
    },
    {
      "cell_type": "code",
      "metadata": {
        "id": "JQfz93IU0c5c",
        "colab_type": "code",
        "colab": {
          "base_uri": "https://localhost:8080/",
          "height": 416
        },
        "outputId": "44bd469e-d1ca-4137-a2fc-f00c18b430fd"
      },
      "source": [
        "pipeline.fit(X, y)"
      ],
      "execution_count": 120,
      "outputs": [
        {
          "output_type": "execute_result",
          "data": {
            "text/plain": [
              "Pipeline(memory=None,\n",
              "         steps=[('vectorizer',\n",
              "                 TfidfVectorizer(analyzer='word', binary=False,\n",
              "                                 decode_error='strict',\n",
              "                                 dtype=<class 'numpy.float64'>,\n",
              "                                 encoding='utf-8', input='content',\n",
              "                                 lowercase=True, max_df=1.0, max_features=5000,\n",
              "                                 min_df=1, ngram_range=(1, 1), norm='l2',\n",
              "                                 preprocessor=None, smooth_idf=True,\n",
              "                                 stop_words=['de', 'la', 'que', 'el', 'en', 'y',\n",
              "                                             'a', 'los', 'del', 'se', '...\n",
              "                 RandomForestClassifier(bootstrap=True, class_weight=None,\n",
              "                                        criterion='gini', max_depth=None,\n",
              "                                        max_features='auto',\n",
              "                                        max_leaf_nodes=None,\n",
              "                                        min_impurity_decrease=0.0,\n",
              "                                        min_impurity_split=None,\n",
              "                                        min_samples_leaf=1, min_samples_split=2,\n",
              "                                        min_weight_fraction_leaf=0.0,\n",
              "                                        n_estimators=50, n_jobs=None,\n",
              "                                        oob_score=False, random_state=42,\n",
              "                                        verbose=0, warm_start=False))],\n",
              "         verbose=False)"
            ]
          },
          "metadata": {
            "tags": []
          },
          "execution_count": 120
        }
      ]
    },
    {
      "cell_type": "code",
      "metadata": {
        "id": "t1988_uD0kWw",
        "colab_type": "code",
        "colab": {}
      },
      "source": [
        "y_pred = pipeline.predict(X_valid)\n",
        "y_pred = pd.Series(y_pred, name='RAMA2D_R4_PRED')"
      ],
      "execution_count": 0,
      "outputs": []
    },
    {
      "cell_type": "code",
      "metadata": {
        "id": "Zc9allLJ0yDL",
        "colab_type": "code",
        "colab": {
          "base_uri": "https://localhost:8080/",
          "height": 206
        },
        "outputId": "f6f2dfd1-66bb-4998-bfa1-4c4fa00a02db"
      },
      "source": [
        "df_valid = pd.concat([X_valid, y_pred], axis='columns')\n",
        "df_valid.sample(n=5)"
      ],
      "execution_count": 122,
      "outputs": [
        {
          "output_type": "execute_result",
          "data": {
            "text/html": [
              "<div>\n",
              "<style scoped>\n",
              "    .dataframe tbody tr th:only-of-type {\n",
              "        vertical-align: middle;\n",
              "    }\n",
              "\n",
              "    .dataframe tbody tr th {\n",
              "        vertical-align: top;\n",
              "    }\n",
              "\n",
              "    .dataframe thead th {\n",
              "        text-align: right;\n",
              "    }\n",
              "</style>\n",
              "<table border=\"1\" class=\"dataframe\">\n",
              "  <thead>\n",
              "    <tr style=\"text-align: right;\">\n",
              "      <th></th>\n",
              "      <th>P6390</th>\n",
              "      <th>RAMA2D_R4_PRED</th>\n",
              "    </tr>\n",
              "  </thead>\n",
              "  <tbody>\n",
              "    <tr>\n",
              "      <th>21287</th>\n",
              "      <td>CONSTRUCCION DE VIVIENDAS</td>\n",
              "      <td>41</td>\n",
              "    </tr>\n",
              "    <tr>\n",
              "      <th>3272</th>\n",
              "      <td>SERVICIO DE TRANSPORTE ESCOLAR</td>\n",
              "      <td>49</td>\n",
              "    </tr>\n",
              "    <tr>\n",
              "      <th>8262</th>\n",
              "      <td>CULTIVO MIXTO DE CAFE Y AGUACATE</td>\n",
              "      <td>1</td>\n",
              "    </tr>\n",
              "    <tr>\n",
              "      <th>15277</th>\n",
              "      <td>SERVICIO DOMESTICO HOGAR</td>\n",
              "      <td>97</td>\n",
              "    </tr>\n",
              "    <tr>\n",
              "      <th>16400</th>\n",
              "      <td>SERVICIO DE EDUCACION EN TECNICO LABORAL</td>\n",
              "      <td>85</td>\n",
              "    </tr>\n",
              "  </tbody>\n",
              "</table>\n",
              "</div>"
            ],
            "text/plain": [
              "                                          P6390  RAMA2D_R4_PRED\n",
              "21287                 CONSTRUCCION DE VIVIENDAS              41\n",
              "3272             SERVICIO DE TRANSPORTE ESCOLAR              49\n",
              "8262           CULTIVO MIXTO DE CAFE Y AGUACATE               1\n",
              "15277                  SERVICIO DOMESTICO HOGAR              97\n",
              "16400  SERVICIO DE EDUCACION EN TECNICO LABORAL              85"
            ]
          },
          "metadata": {
            "tags": []
          },
          "execution_count": 122
        }
      ]
    },
    {
      "cell_type": "code",
      "metadata": {
        "id": "G7vv9z9p2Rnh",
        "colab_type": "code",
        "colab": {
          "base_uri": "https://localhost:8080/",
          "height": 512
        },
        "outputId": "7313136f-b12e-4dfb-e5cb-a4afcdb3a79f"
      },
      "source": [
        "plt.figure(figsize=(20,8))\n",
        "ordered_labels = df_valid['RAMA2D_R4_PRED'].value_counts().index\n",
        "sns.countplot(x='RAMA2D_R4_PRED', data=df_valid, order=ordered_labels)\n",
        "plt.yscale('log')\n",
        "plt.xticks(rotation=90)\n",
        "plt.show()"
      ],
      "execution_count": 123,
      "outputs": [
        {
          "output_type": "display_data",
          "data": {
            "image/png": "[encoded data removed]",
            "text/plain": [
              "<Figure size 1440x576 with 1 Axes>"
            ]
          },
          "metadata": {
            "tags": []
          }
        }
      ]
    },
    {
      "cell_type": "code",
      "metadata": {
        "id": "GnDV9S82UKTS",
        "colab_type": "code",
        "colab": {
          "base_uri": "https://localhost:8080/",
          "height": 49
        },
        "outputId": "66b0fc63-b9a1-4e05-a21e-e59fe9152bca"
      },
      "source": [
        "df_valid.query('RAMA2D_R4_PRED == 0')"
      ],
      "execution_count": 124,
      "outputs": [
        {
          "output_type": "execute_result",
          "data": {
            "text/html": [
              "<div>\n",
              "<style scoped>\n",
              "    .dataframe tbody tr th:only-of-type {\n",
              "        vertical-align: middle;\n",
              "    }\n",
              "\n",
              "    .dataframe tbody tr th {\n",
              "        vertical-align: top;\n",
              "    }\n",
              "\n",
              "    .dataframe thead th {\n",
              "        text-align: right;\n",
              "    }\n",
              "</style>\n",
              "<table border=\"1\" class=\"dataframe\">\n",
              "  <thead>\n",
              "    <tr style=\"text-align: right;\">\n",
              "      <th></th>\n",
              "      <th>P6390</th>\n",
              "      <th>RAMA2D_R4_PRED</th>\n",
              "    </tr>\n",
              "  </thead>\n",
              "  <tbody>\n",
              "  </tbody>\n",
              "</table>\n",
              "</div>"
            ],
            "text/plain": [
              "Empty DataFrame\n",
              "Columns: [P6390, RAMA2D_R4_PRED]\n",
              "Index: []"
            ]
          },
          "metadata": {
            "tags": []
          },
          "execution_count": 124
        }
      ]
    },
    {
      "cell_type": "code",
      "metadata": {
        "id": "gz8Jzda46YFf",
        "colab_type": "code",
        "colab": {}
      },
      "source": [
        "# from time import sleep\n",
        "\n",
        "# for label in ordered_labels:\n",
        "#   print(df_valid.query(f'RAMA2D_R4_PRED == {label}').head())\n",
        "#   print('='*60)\n",
        "#   print(df_train.query(f'RAMA2D_R4 == {label}').head())\n",
        "#   print('\\n\\n')\n",
        "#   sleep(5)"
      ],
      "execution_count": 0,
      "outputs": []
    }
  ]
}